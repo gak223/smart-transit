{
 "cells": [
  {
   "cell_type": "code",
   "execution_count": 1,
   "metadata": {},
   "outputs": [],
   "source": [
    "import pandas as pd\n",
    "import numpy as np\n",
    "import matplotlib.pyplot as plt\n",
    "import seaborn as sns"
   ]
  },
  {
   "cell_type": "code",
   "execution_count": 4,
   "metadata": {},
   "outputs": [],
   "source": [
    "meta = pd.read_csv(\"metadata.csv\")\n",
    "gps = pd.read_excel(\"77FEB2020.XLSX\")"
   ]
  },
  {
   "cell_type": "code",
   "execution_count": 13,
   "metadata": {},
   "outputs": [],
   "source": [
    "roads = gps[\"MAIN_CROSS_STREET\"].str.split(\" + \", regex=False)"
   ]
  },
  {
   "cell_type": "code",
   "execution_count": 18,
   "metadata": {},
   "outputs": [],
   "source": [
    "road_arr = []\n",
    "\n",
    "for road in roads:\n",
    "\troad_arr.extend(road)"
   ]
  },
  {
   "cell_type": "code",
   "execution_count": 20,
   "metadata": {},
   "outputs": [],
   "source": [
    "road_series = pd.Series(road_arr)"
   ]
  },
  {
   "cell_type": "code",
   "execution_count": 31,
   "metadata": {},
   "outputs": [],
   "source": [
    "unique_roads = road_series.unique()"
   ]
  },
  {
   "cell_type": "code",
   "execution_count": 37,
   "metadata": {},
   "outputs": [
    {
     "name": "stderr",
     "output_type": "stream",
     "text": [
      "C:\\Users\\megam\\AppData\\Local\\Temp/ipykernel_492/3230190839.py:3: UserWarning: This pattern is interpreted as a regular expression, and has match groups. To actually get the groups, use str.extract.\n",
      "  matches_bools = meta[\"Intersection\"].str.contains(matches_regex, na=False, regex=True)\n"
     ]
    }
   ],
   "source": [
    "matches_regex = \"|\".join(unique_roads)\n",
    "\n",
    "matches_bools = meta[\"Intersection\"].str.contains(matches_regex, na=False, regex=True)"
   ]
  },
  {
   "cell_type": "code",
   "execution_count": 38,
   "metadata": {},
   "outputs": [],
   "source": [
    "matched_rows = meta[matches_bools]"
   ]
  },
  {
   "cell_type": "markdown",
   "metadata": {},
   "source": [
    "matched_rows contains all segment IDs and intersections that are relevant to the route analyzed. Now create a new daily traffic score that contains only these segments"
   ]
  },
  {
   "cell_type": "code",
   "execution_count": 42,
   "metadata": {},
   "outputs": [],
   "source": [
    "traffic = pd.read_csv(\"data_1.csv\")"
   ]
  },
  {
   "cell_type": "code",
   "execution_count": 45,
   "metadata": {},
   "outputs": [],
   "source": [
    "relevant_traffic = traffic.merge(matched_rows, on=\"Segment ID\")"
   ]
  },
  {
   "cell_type": "code",
   "execution_count": 47,
   "metadata": {},
   "outputs": [],
   "source": [
    "traffic = relevant_traffic"
   ]
  },
  {
   "cell_type": "code",
   "execution_count": 48,
   "metadata": {},
   "outputs": [],
   "source": [
    "traffic[\"Score\"] = traffic[\"Speed(miles/hour)\"] / traffic[\"Ref Speed(miles/hour)\"]\n",
    "traffic[\"Date Time\"] = pd.to_datetime(traffic[\"Date Time\"]).dt.tz_localize(None)\n",
    "traffic[\"Date\"] = traffic[\"Date Time\"].dt.date\n",
    "traffic[\"Time\"] = traffic[\"Date Time\"].dt.time"
   ]
  },
  {
   "cell_type": "code",
   "execution_count": 49,
   "metadata": {},
   "outputs": [],
   "source": [
    "kwh = pd.read_csv(\"block_weather_avg_test.csv\",index_col=0)\n",
    "kwh[\"Date Time\"] = pd.to_datetime(kwh[\"Date\"]).dt.tz_localize(None)\n",
    "kwh[\"Date\"] = kwh[\"Date Time\"].dt.date\n",
    "kwh_by_date = kwh.groupby(\"Date\").agg({\"kwh\": \"mean\"})"
   ]
  },
  {
   "cell_type": "code",
   "execution_count": 50,
   "metadata": {},
   "outputs": [],
   "source": [
    "confident_traffic = traffic.loc[traffic[\"CValue\"] > 0.9]\n",
    "mean_scores = confident_traffic.groupby([\"Date\", \"Segment ID\"])[\"Score\"].apply(np.mean).reset_index()\n",
    "day_scores = mean_scores.groupby(\"Date\").agg({\"Score\": \"mean\"})\n",
    "merged = pd.merge(kwh_by_date, day_scores, on=\"Date\")"
   ]
  },
  {
   "cell_type": "code",
   "execution_count": 51,
   "metadata": {},
   "outputs": [
    {
     "data": {
      "text/plain": [
       "<AxesSubplot:xlabel='Score', ylabel='kwh'>"
      ]
     },
     "execution_count": 51,
     "metadata": {},
     "output_type": "execute_result"
    },
    {
     "data": {
      "image/png": "[encoded data removed]",
      "text/plain": [
       "<Figure size 432x288 with 1 Axes>"
      ]
     },
     "metadata": {
      "needs_background": "light"
     },
     "output_type": "display_data"
    }
   ],
   "source": [
    "sns.scatterplot(merged, x=\"Score\", y=\"kwh\")"
   ]
  }
 ],
 "metadata": {
  "kernelspec": {
   "display_name": "Python 3.9.0 64-bit",
   "language": "python",
   "name": "python3"
  },
  "language_info": {
   "codemirror_mode": {
    "name": "ipython",
    "version": 3
   },
   "file_extension": ".py",
   "mimetype": "text/x-python",
   "name": "python",
   "nbconvert_exporter": "python",
   "pygments_lexer": "ipython3",
   "version": "3.9.0"
  },
  "orig_nbformat": 4,
  "vscode": {
   "interpreter": {
    "hash": "1309905a9055c6663c2e522cc5b6793395bf59c128c26cd5d6993d823ff82e1f"
   }
  }
 },
 "nbformat": 4,
 "nbformat_minor": 2
}
