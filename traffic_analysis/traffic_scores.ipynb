{
 "cells": [
  {
   "cell_type": "code",
   "execution_count": 1,
   "metadata": {},
   "outputs": [],
   "source": [
    "import pandas as pd\n",
    "import numpy as np\n",
    "import matplotlib.pyplot as plt\n",
    "import seaborn as sns"
   ]
  },
  {
   "cell_type": "code",
   "execution_count": 3,
   "metadata": {},
   "outputs": [],
   "source": [
    "traffic = pd.read_csv(\"data_1.csv\") # traffic from 5AM to 10PM\n",
    "# traffic_2 = pd.read_csv(\"data_2.csv\")\n",
    "# kwh = pd.read_csv(\"block_weather_avg_test.csv\",index_col=0)"
   ]
  },
  {
   "cell_type": "code",
   "execution_count": 4,
   "metadata": {},
   "outputs": [
    {
     "data": {
      "text/html": [
       "<div>\n",
       "<style scoped>\n",
       "    .dataframe tbody tr th:only-of-type {\n",
       "        vertical-align: middle;\n",
       "    }\n",
       "\n",
       "    .dataframe tbody tr th {\n",
       "        vertical-align: top;\n",
       "    }\n",
       "\n",
       "    .dataframe thead th {\n",
       "        text-align: right;\n",
       "    }\n",
       "</style>\n",
       "<table border=\"1\" class=\"dataframe\">\n",
       "  <thead>\n",
       "    <tr style=\"text-align: right;\">\n",
       "      <th></th>\n",
       "      <th>Date Time</th>\n",
       "      <th>Segment ID</th>\n",
       "      <th>UTC Date Time</th>\n",
       "      <th>Speed(miles/hour)</th>\n",
       "      <th>Hist Av Speed(miles/hour)</th>\n",
       "      <th>Ref Speed(miles/hour)</th>\n",
       "      <th>Travel Time(Minutes)</th>\n",
       "      <th>CValue</th>\n",
       "      <th>Pct Score30</th>\n",
       "      <th>Pct Score20</th>\n",
       "      <th>Pct Score10</th>\n",
       "      <th>Road Closure</th>\n",
       "      <th>Corridor/Region Name</th>\n",
       "    </tr>\n",
       "  </thead>\n",
       "  <tbody>\n",
       "    <tr>\n",
       "      <th>0</th>\n",
       "      <td>2020-01-01T05:00:00-08:00</td>\n",
       "      <td>1626612172</td>\n",
       "      <td>2020-01-01T13:00:00Z</td>\n",
       "      <td>50.0</td>\n",
       "      <td>50.0</td>\n",
       "      <td>53</td>\n",
       "      <td>0.27</td>\n",
       "      <td>NaN</td>\n",
       "      <td>0.0</td>\n",
       "      <td>100.0</td>\n",
       "      <td>0.0</td>\n",
       "      <td>F</td>\n",
       "      <td>santa clara study</td>\n",
       "    </tr>\n",
       "    <tr>\n",
       "      <th>1</th>\n",
       "      <td>2020-01-01T06:00:00-08:00</td>\n",
       "      <td>1626612172</td>\n",
       "      <td>2020-01-01T14:00:00Z</td>\n",
       "      <td>52.0</td>\n",
       "      <td>51.0</td>\n",
       "      <td>53</td>\n",
       "      <td>0.25</td>\n",
       "      <td>NaN</td>\n",
       "      <td>0.0</td>\n",
       "      <td>100.0</td>\n",
       "      <td>0.0</td>\n",
       "      <td>F</td>\n",
       "      <td>santa clara study</td>\n",
       "    </tr>\n",
       "    <tr>\n",
       "      <th>2</th>\n",
       "      <td>2020-01-01T07:00:00-08:00</td>\n",
       "      <td>1626612172</td>\n",
       "      <td>2020-01-01T15:00:00Z</td>\n",
       "      <td>39.0</td>\n",
       "      <td>52.0</td>\n",
       "      <td>53</td>\n",
       "      <td>0.33</td>\n",
       "      <td>NaN</td>\n",
       "      <td>0.0</td>\n",
       "      <td>100.0</td>\n",
       "      <td>0.0</td>\n",
       "      <td>F</td>\n",
       "      <td>santa clara study</td>\n",
       "    </tr>\n",
       "    <tr>\n",
       "      <th>3</th>\n",
       "      <td>2020-01-01T08:00:00-08:00</td>\n",
       "      <td>1626612172</td>\n",
       "      <td>2020-01-01T16:00:00Z</td>\n",
       "      <td>24.0</td>\n",
       "      <td>20.0</td>\n",
       "      <td>53</td>\n",
       "      <td>0.53</td>\n",
       "      <td>NaN</td>\n",
       "      <td>0.0</td>\n",
       "      <td>100.0</td>\n",
       "      <td>0.0</td>\n",
       "      <td>F</td>\n",
       "      <td>santa clara study</td>\n",
       "    </tr>\n",
       "    <tr>\n",
       "      <th>4</th>\n",
       "      <td>2020-01-01T09:00:00-08:00</td>\n",
       "      <td>1626612172</td>\n",
       "      <td>2020-01-01T17:00:00Z</td>\n",
       "      <td>50.0</td>\n",
       "      <td>47.0</td>\n",
       "      <td>53</td>\n",
       "      <td>0.27</td>\n",
       "      <td>100.0</td>\n",
       "      <td>22.0</td>\n",
       "      <td>78.0</td>\n",
       "      <td>0.0</td>\n",
       "      <td>F</td>\n",
       "      <td>santa clara study</td>\n",
       "    </tr>\n",
       "    <tr>\n",
       "      <th>...</th>\n",
       "      <td>...</td>\n",
       "      <td>...</td>\n",
       "      <td>...</td>\n",
       "      <td>...</td>\n",
       "      <td>...</td>\n",
       "      <td>...</td>\n",
       "      <td>...</td>\n",
       "      <td>...</td>\n",
       "      <td>...</td>\n",
       "      <td>...</td>\n",
       "      <td>...</td>\n",
       "      <td>...</td>\n",
       "      <td>...</td>\n",
       "    </tr>\n",
       "    <tr>\n",
       "      <th>17005248</th>\n",
       "      <td>2020-02-28T17:00:00-08:00</td>\n",
       "      <td>169878874</td>\n",
       "      <td>2020-02-29T01:00:00Z</td>\n",
       "      <td>7.0</td>\n",
       "      <td>8.0</td>\n",
       "      <td>9</td>\n",
       "      <td>1.60</td>\n",
       "      <td>NaN</td>\n",
       "      <td>0.0</td>\n",
       "      <td>100.0</td>\n",
       "      <td>0.0</td>\n",
       "      <td>F</td>\n",
       "      <td>santa clara study</td>\n",
       "    </tr>\n",
       "    <tr>\n",
       "      <th>17005249</th>\n",
       "      <td>2020-02-28T18:00:00-08:00</td>\n",
       "      <td>169878874</td>\n",
       "      <td>2020-02-29T02:00:00Z</td>\n",
       "      <td>9.0</td>\n",
       "      <td>NaN</td>\n",
       "      <td>9</td>\n",
       "      <td>1.18</td>\n",
       "      <td>NaN</td>\n",
       "      <td>0.0</td>\n",
       "      <td>0.0</td>\n",
       "      <td>100.0</td>\n",
       "      <td>F</td>\n",
       "      <td>santa clara study</td>\n",
       "    </tr>\n",
       "    <tr>\n",
       "      <th>17005250</th>\n",
       "      <td>2020-02-28T19:00:00-08:00</td>\n",
       "      <td>169878874</td>\n",
       "      <td>2020-02-29T03:00:00Z</td>\n",
       "      <td>9.0</td>\n",
       "      <td>NaN</td>\n",
       "      <td>9</td>\n",
       "      <td>1.18</td>\n",
       "      <td>NaN</td>\n",
       "      <td>0.0</td>\n",
       "      <td>0.0</td>\n",
       "      <td>100.0</td>\n",
       "      <td>F</td>\n",
       "      <td>santa clara study</td>\n",
       "    </tr>\n",
       "    <tr>\n",
       "      <th>17005251</th>\n",
       "      <td>2020-02-28T20:00:00-08:00</td>\n",
       "      <td>169878874</td>\n",
       "      <td>2020-02-29T04:00:00Z</td>\n",
       "      <td>9.0</td>\n",
       "      <td>NaN</td>\n",
       "      <td>9</td>\n",
       "      <td>1.18</td>\n",
       "      <td>NaN</td>\n",
       "      <td>0.0</td>\n",
       "      <td>0.0</td>\n",
       "      <td>100.0</td>\n",
       "      <td>F</td>\n",
       "      <td>santa clara study</td>\n",
       "    </tr>\n",
       "    <tr>\n",
       "      <th>17005252</th>\n",
       "      <td>2020-02-28T21:00:00-08:00</td>\n",
       "      <td>169878874</td>\n",
       "      <td>2020-02-29T05:00:00Z</td>\n",
       "      <td>9.0</td>\n",
       "      <td>NaN</td>\n",
       "      <td>9</td>\n",
       "      <td>1.18</td>\n",
       "      <td>NaN</td>\n",
       "      <td>0.0</td>\n",
       "      <td>0.0</td>\n",
       "      <td>100.0</td>\n",
       "      <td>F</td>\n",
       "      <td>santa clara study</td>\n",
       "    </tr>\n",
       "  </tbody>\n",
       "</table>\n",
       "<p>17005253 rows × 13 columns</p>\n",
       "</div>"
      ],
      "text/plain": [
       "                          Date Time  Segment ID         UTC Date Time  \\\n",
       "0         2020-01-01T05:00:00-08:00  1626612172  2020-01-01T13:00:00Z   \n",
       "1         2020-01-01T06:00:00-08:00  1626612172  2020-01-01T14:00:00Z   \n",
       "2         2020-01-01T07:00:00-08:00  1626612172  2020-01-01T15:00:00Z   \n",
       "3         2020-01-01T08:00:00-08:00  1626612172  2020-01-01T16:00:00Z   \n",
       "4         2020-01-01T09:00:00-08:00  1626612172  2020-01-01T17:00:00Z   \n",
       "...                             ...         ...                   ...   \n",
       "17005248  2020-02-28T17:00:00-08:00   169878874  2020-02-29T01:00:00Z   \n",
       "17005249  2020-02-28T18:00:00-08:00   169878874  2020-02-29T02:00:00Z   \n",
       "17005250  2020-02-28T19:00:00-08:00   169878874  2020-02-29T03:00:00Z   \n",
       "17005251  2020-02-28T20:00:00-08:00   169878874  2020-02-29T04:00:00Z   \n",
       "17005252  2020-02-28T21:00:00-08:00   169878874  2020-02-29T05:00:00Z   \n",
       "\n",
       "          Speed(miles/hour)  Hist Av Speed(miles/hour)  Ref Speed(miles/hour)  \\\n",
       "0                      50.0                       50.0                     53   \n",
       "1                      52.0                       51.0                     53   \n",
       "2                      39.0                       52.0                     53   \n",
       "3                      24.0                       20.0                     53   \n",
       "4                      50.0                       47.0                     53   \n",
       "...                     ...                        ...                    ...   \n",
       "17005248                7.0                        8.0                      9   \n",
       "17005249                9.0                        NaN                      9   \n",
       "17005250                9.0                        NaN                      9   \n",
       "17005251                9.0                        NaN                      9   \n",
       "17005252                9.0                        NaN                      9   \n",
       "\n",
       "          Travel Time(Minutes)  CValue  Pct Score30  Pct Score20  Pct Score10  \\\n",
       "0                         0.27     NaN          0.0        100.0          0.0   \n",
       "1                         0.25     NaN          0.0        100.0          0.0   \n",
       "2                         0.33     NaN          0.0        100.0          0.0   \n",
       "3                         0.53     NaN          0.0        100.0          0.0   \n",
       "4                         0.27   100.0         22.0         78.0          0.0   \n",
       "...                        ...     ...          ...          ...          ...   \n",
       "17005248                  1.60     NaN          0.0        100.0          0.0   \n",
       "17005249                  1.18     NaN          0.0          0.0        100.0   \n",
       "17005250                  1.18     NaN          0.0          0.0        100.0   \n",
       "17005251                  1.18     NaN          0.0          0.0        100.0   \n",
       "17005252                  1.18     NaN          0.0          0.0        100.0   \n",
       "\n",
       "         Road Closure Corridor/Region Name  \n",
       "0                   F    santa clara study  \n",
       "1                   F    santa clara study  \n",
       "2                   F    santa clara study  \n",
       "3                   F    santa clara study  \n",
       "4                   F    santa clara study  \n",
       "...               ...                  ...  \n",
       "17005248            F    santa clara study  \n",
       "17005249            F    santa clara study  \n",
       "17005250            F    santa clara study  \n",
       "17005251            F    santa clara study  \n",
       "17005252            F    santa clara study  \n",
       "\n",
       "[17005253 rows x 13 columns]"
      ]
     },
     "execution_count": 4,
     "metadata": {},
     "output_type": "execute_result"
    }
   ],
   "source": [
    "traffic"
   ]
  },
  {
   "cell_type": "code",
   "execution_count": 4,
   "metadata": {},
   "outputs": [],
   "source": [
    "traffic = traffic[['Date Time', 'Segment ID', 'Speed(miles/hour)', 'Ref Speed(miles/hour)', 'CValue']]\n",
    "traffic_2 = traffic_2[['Date Time', 'Segment ID', 'Speed(miles/hour)', 'Ref Speed(miles/hour)', 'CValue']]"
   ]
  },
  {
   "cell_type": "code",
   "execution_count": 11,
   "metadata": {},
   "outputs": [],
   "source": [
    "traffic[\"Score\"] = traffic[\"Speed(miles/hour)\"] / traffic[\"Ref Speed(miles/hour)\"]\n",
    "traffic[\"Date Time\"] = pd.to_datetime(traffic[\"Date Time\"]).dt.tz_localize(None)\n",
    "traffic[\"Date\"] = traffic[\"Date Time\"].dt.date\n",
    "traffic[\"Time\"] = traffic[\"Date Time\"].dt.time\n",
    "\n",
    "traffic_2[\"Score\"] = traffic_2[\"Speed(miles/hour)\"] / traffic_2[\"Ref Speed(miles/hour)\"]\n",
    "traffic_2[\"Date Time\"] = pd.to_datetime(traffic_2[\"Date Time\"]).dt.tz_localize(None)\n",
    "traffic_2[\"Date\"] = traffic_2[\"Date Time\"].dt.date\n",
    "traffic_2[\"Time\"] = traffic_2[\"Date Time\"].dt.time\n"
   ]
  },
  {
   "cell_type": "code",
   "execution_count": 12,
   "metadata": {},
   "outputs": [],
   "source": [
    "together = pd.concat([traffic, traffic_2], axis=0)"
   ]
  },
  {
   "cell_type": "code",
   "execution_count": 6,
   "metadata": {},
   "outputs": [
    {
     "data": {
      "text/plain": [
       "array(['2019-04-08', '2019-04-09', '2019-04-10', '2019-04-11',\n",
       "       '2019-04-12', '2019-04-15', '2019-04-16', '2019-04-17',\n",
       "       '2019-04-18', '2019-04-19', '2019-04-22', '2019-04-23',\n",
       "       '2019-04-24', '2019-04-29', '2019-04-30', '2019-05-01',\n",
       "       '2019-05-02', '2019-05-03', '2019-05-06', '2019-05-07',\n",
       "       '2019-05-08', '2019-05-09', '2019-05-10', '2019-05-13',\n",
       "       '2019-05-14', '2019-05-15', '2019-05-16', '2019-05-17',\n",
       "       '2019-05-20', '2019-05-21', '2019-05-22', '2019-05-23',\n",
       "       '2019-05-24', '2019-05-28', '2019-05-29', '2019-05-30',\n",
       "       '2019-05-31', '2019-06-03', '2019-06-04', '2019-06-05',\n",
       "       '2019-06-06', '2019-06-07', '2019-06-10', '2019-06-11',\n",
       "       '2019-06-12', '2019-06-13', '2019-06-14', '2019-06-17',\n",
       "       '2019-06-18', '2019-06-19', '2019-06-20', '2019-06-21',\n",
       "       '2019-06-24', '2019-06-25', '2019-06-26', '2019-06-27',\n",
       "       '2019-06-28', '2019-07-01', '2019-07-02', '2019-07-03',\n",
       "       '2019-07-05', '2019-07-08', '2019-07-09', '2019-07-10',\n",
       "       '2019-07-11', '2019-07-12', '2019-07-15', '2019-07-16',\n",
       "       '2019-07-17', '2019-07-18', '2019-07-19', '2019-07-22',\n",
       "       '2019-07-23', '2019-07-24', '2019-07-29', '2019-07-30',\n",
       "       '2019-07-31', '2019-08-01', '2019-08-02', '2019-08-05',\n",
       "       '2019-08-06', '2019-08-07', '2019-08-08', '2019-08-09',\n",
       "       '2019-08-12', '2019-08-13', '2019-08-14', '2019-08-15',\n",
       "       '2019-08-16', '2019-08-19', '2019-08-20', '2019-08-21',\n",
       "       '2019-08-22', '2019-08-26', '2019-08-27', '2019-08-29',\n",
       "       '2019-08-30', '2019-09-03', '2019-09-04', '2019-09-05',\n",
       "       '2019-09-06', '2019-09-09', '2019-09-10', '2019-09-11',\n",
       "       '2019-09-12', '2019-09-13', '2019-09-20', '2019-09-23',\n",
       "       '2019-09-24', '2019-09-25', '2019-09-26', '2019-09-27',\n",
       "       '2019-09-30', '2019-10-02', '2019-10-03', '2019-10-04',\n",
       "       '2019-10-07', '2019-10-08', '2019-10-15', '2019-10-16',\n",
       "       '2019-10-17', '2019-10-18', '2019-10-21', '2019-10-22',\n",
       "       '2019-10-23', '2019-10-24', '2019-10-25', '2019-10-28',\n",
       "       '2019-10-29', '2019-10-30', '2019-10-31', '2019-11-01',\n",
       "       '2019-11-04', '2019-11-05', '2019-11-06', '2019-11-07',\n",
       "       '2019-11-08', '2019-11-11', '2019-11-12', '2019-11-13',\n",
       "       '2019-11-14', '2019-11-15', '2019-11-18', '2019-11-19',\n",
       "       '2019-11-20', '2019-11-21', '2019-11-22', '2019-11-25',\n",
       "       '2019-11-26', '2019-11-27', '2019-12-02', '2019-12-03',\n",
       "       '2019-12-05', '2019-12-06', '2019-12-09', '2019-12-11',\n",
       "       '2019-12-12', '2019-12-13', '2019-12-16', '2019-12-18',\n",
       "       '2020-01-06', '2020-01-07', '2020-01-08', '2020-01-09',\n",
       "       '2020-01-10', '2020-01-24', '2020-01-30', '2020-01-31',\n",
       "       '2020-02-04', '2020-02-06', '2020-02-07', '2020-02-10',\n",
       "       '2020-02-11', '2020-02-12', '2020-02-25', '2020-03-02',\n",
       "       '2020-03-03', '2020-03-05', '2020-03-10', '2020-03-11',\n",
       "       '2020-03-12', '2020-03-13', '2020-03-16', '2020-03-17',\n",
       "       '2020-03-18', '2020-03-19', '2020-03-20', '2020-03-23',\n",
       "       '2020-03-24', '2020-03-25', '2020-03-26', '2020-06-15',\n",
       "       '2020-06-16', '2020-06-17', '2020-06-18', '2020-06-19',\n",
       "       '2020-06-22', '2020-06-29', '2020-06-30', '2020-07-01',\n",
       "       '2020-07-02', '2020-07-03', '2020-07-06', '2020-07-07',\n",
       "       '2020-07-09', '2020-07-13', '2020-07-14', '2020-07-15',\n",
       "       '2020-07-16', '2020-07-17', '2020-07-21', '2020-07-22',\n",
       "       '2020-07-23', '2020-07-24', '2020-07-27', '2020-07-28',\n",
       "       '2020-07-29', '2020-07-30', '2020-07-31', '2020-08-10',\n",
       "       '2020-08-11', '2020-08-12', '2020-08-13', '2020-08-14',\n",
       "       '2020-08-17', '2020-08-18', '2020-08-19', '2020-08-20',\n",
       "       '2020-08-21', '2020-08-24', '2020-08-25', '2020-08-26',\n",
       "       '2020-08-27', '2020-08-28', '2020-08-31', '2020-09-01',\n",
       "       '2020-09-02', '2020-09-03', '2020-09-04', '2020-09-08',\n",
       "       '2020-09-09', '2020-09-10', '2020-09-11', '2020-09-14',\n",
       "       '2020-09-15', '2020-09-16', '2020-09-17', '2020-09-18',\n",
       "       '2020-09-21', '2020-09-22', '2020-09-23', '2020-09-24',\n",
       "       '2020-09-25', '2020-09-28', '2020-09-29', '2020-09-30',\n",
       "       '2020-10-01', '2020-10-02', '2020-10-05', '2020-10-06',\n",
       "       '2020-10-07', '2020-10-08', '2020-10-09', '2020-10-12',\n",
       "       '2020-10-14', '2020-10-15', '2020-10-16', '2020-10-19',\n",
       "       '2020-10-20', '2020-10-21', '2020-10-22', '2020-10-23',\n",
       "       '2020-10-26', '2020-10-27', '2020-10-28', '2020-10-29',\n",
       "       '2020-10-30', '2020-11-02', '2020-11-03', '2020-11-04',\n",
       "       '2020-11-05', '2020-11-06', '2020-11-09', '2020-11-10',\n",
       "       '2020-11-11', '2020-11-12', '2020-11-13', '2020-11-16',\n",
       "       '2020-11-17', '2020-11-18', '2020-11-19', '2020-11-20',\n",
       "       '2020-11-24', '2020-11-25', '2020-11-27', '2020-12-01',\n",
       "       '2020-12-02', '2020-12-03', '2020-12-04', '2020-12-07',\n",
       "       '2020-12-08', '2020-12-09', '2020-12-10', '2020-12-11',\n",
       "       '2020-12-14'], dtype=object)"
      ]
     },
     "execution_count": 6,
     "metadata": {},
     "output_type": "execute_result"
    }
   ],
   "source": [
    "kwh[\"Date\"].unique()"
   ]
  },
  {
   "cell_type": "code",
   "execution_count": 12,
   "metadata": {},
   "outputs": [],
   "source": [
    "traffic[\"Score\"] = traffic[\"Speed(miles/hour)\"] / traffic[\"Ref Speed(miles/hour)\"]\n",
    "traffic[\"Date Time\"] = pd.to_datetime(traffic[\"Date Time\"]).dt.tz_localize(None)\n",
    "traffic[\"Date\"] = traffic[\"Date Time\"].dt.date\n",
    "traffic[\"Time\"] = traffic[\"Date Time\"].dt.time"
   ]
  },
  {
   "cell_type": "code",
   "execution_count": 13,
   "metadata": {},
   "outputs": [],
   "source": [
    "kwh[\"Date Time\"] = pd.to_datetime(kwh[\"Date\"]).dt.tz_localize(None)\n",
    "kwh[\"Date\"] = kwh[\"Date Time\"].dt.date"
   ]
  },
  {
   "cell_type": "code",
   "execution_count": 14,
   "metadata": {},
   "outputs": [],
   "source": [
    "kwh_by_date = kwh.groupby(\"Date\").agg({\"kwh\": \"mean\"})"
   ]
  },
  {
   "cell_type": "code",
   "execution_count": 16,
   "metadata": {},
   "outputs": [],
   "source": [
    "confident_traffic = together.loc[together[\"CValue\"] > 0.9]\n",
    "mean_scores = confident_traffic.groupby([\"Date\", \"Segment ID\"])[\"Score\"].apply(np.mean).reset_index()\n",
    "day_scores = mean_scores.groupby(\"Date\").agg({\"Score\": \"mean\"})"
   ]
  },
  {
   "cell_type": "code",
   "execution_count": 17,
   "metadata": {},
   "outputs": [],
   "source": [
    "merged = pd.merge(kwh_by_date, day_scores, on=\"Date\")"
   ]
  },
  {
   "cell_type": "code",
   "execution_count": 18,
   "metadata": {},
   "outputs": [
    {
     "data": {
      "text/plain": [
       "<AxesSubplot:xlabel='Score', ylabel='kwh'>"
      ]
     },
     "execution_count": 18,
     "metadata": {},
     "output_type": "execute_result"
    },
    {
     "data": {
      "image/png": "[encoded data removed]",
      "text/plain": [
       "<Figure size 432x288 with 1 Axes>"
      ]
     },
     "metadata": {
      "needs_background": "light"
     },
     "output_type": "display_data"
    }
   ],
   "source": [
    "sns.scatterplot(merged, x=\"Score\", y=\"kwh\")"
   ]
  },
  {
   "cell_type": "code",
   "execution_count": 19,
   "metadata": {},
   "outputs": [],
   "source": [
    "from sklearn.linear_model import LinearRegression\n",
    "\n",
    "reg = LinearRegression().fit(merged[[\"Score\"]], merged[[\"kwh\"]])"
   ]
  },
  {
   "cell_type": "code",
   "execution_count": 20,
   "metadata": {},
   "outputs": [
    {
     "data": {
      "image/png": "[encoded data removed]",
      "text/plain": [
       "<Figure size 432x288 with 1 Axes>"
      ]
     },
     "metadata": {
      "needs_background": "light"
     },
     "output_type": "display_data"
    }
   ],
   "source": [
    "from scipy.stats import linregress\n",
    "x = merged[\"Score\"]\n",
    "y = merged[\"kwh\"]\n",
    "gradient, intercept, r_value, p_value, std_err = linregress(merged[\"Score\"], merged[\"kwh\"])\n",
    "mn=np.min(x)\n",
    "mx=np.max(x)\n",
    "x1=np.linspace(mn,mx,500)\n",
    "y1=gradient*x1+intercept\n",
    "plt.plot(x,y,'ob')\n",
    "plt.plot(x1,y1,'-r')\n",
    "plt.ylabel(\"KWH\")\n",
    "plt.xlabel(\"Score\")\n",
    "plt.show()"
   ]
  },
  {
   "cell_type": "code",
   "execution_count": 29,
   "metadata": {},
   "outputs": [],
   "source": [
    "merged[\"1/kwh\"] = np.sqrt(merged[\"kwh\"])"
   ]
  },
  {
   "cell_type": "code",
   "execution_count": 30,
   "metadata": {},
   "outputs": [
    {
     "data": {
      "text/plain": [
       "<AxesSubplot:xlabel='Score', ylabel='1/kwh'>"
      ]
     },
     "execution_count": 30,
     "metadata": {},
     "output_type": "execute_result"
    },
    {
     "data": {
      "image/png": "[encoded data removed]",
      "text/plain": [
       "<Figure size 432x288 with 1 Axes>"
      ]
     },
     "metadata": {
      "needs_background": "light"
     },
     "output_type": "display_data"
    }
   ],
   "source": [
    "sns.scatterplot(merged, x=\"Score\", y=\"1/kwh\")"
   ]
  },
  {
   "cell_type": "code",
   "execution_count": 39,
   "metadata": {},
   "outputs": [],
   "source": [
    "actions = {\"Score\": 'mean', \"Date Time\": 'first',}\n",
    "asdf = confident_traffic.groupby([\"Date\", \"Segment ID\"], as_index=False).agg(actions)\n",
    "# asdf[\"Date Time notz\"] = asdf[\"Date Time\"].dt.tz_convert(None)\n",
    "asdf[\"hour\"] = asdf[\"Date Time\"].dt.hour\n",
    "hour_scores = asdf.groupby(\"hour\", as_index=False)[\"Score\"].apply(np.mean)"
   ]
  },
  {
   "cell_type": "code",
   "execution_count": 40,
   "metadata": {},
   "outputs": [
    {
     "data": {
      "text/plain": [
       "<AxesSubplot:xlabel='hour', ylabel='Score'>"
      ]
     },
     "execution_count": 40,
     "metadata": {},
     "output_type": "execute_result"
    },
    {
     "data": {
      "image/png": "[encoded data removed]",
      "text/plain": [
       "<Figure size 432x288 with 1 Axes>"
      ]
     },
     "metadata": {
      "needs_background": "light"
     },
     "output_type": "display_data"
    }
   ],
   "source": [
    "sns.scatterplot(data=hour_scores, x=\"hour\", y=\"Score\")"
   ]
  },
  {
   "cell_type": "code",
   "execution_count": 41,
   "metadata": {},
   "outputs": [],
   "source": [
    "merged.drop(\"1/kwh\", axis=1).to_csv(\"kwh_vs_traffic_score.csv\")"
   ]
  },
  {
   "cell_type": "code",
   "execution_count": 42,
   "metadata": {},
   "outputs": [],
   "source": [
    "day_scores.to_csv(\"daily_traffic_scores.csv\")\n",
    "kwh_by_date.to_csv(\"daily_kwh.csv\")"
   ]
  },
  {
   "cell_type": "code",
   "execution_count": 43,
   "metadata": {},
   "outputs": [],
   "source": [
    "traffic.to_csv(\"traffic_data.csv.gz\", compression=\"gzip\")"
   ]
  },
  {
   "cell_type": "code",
   "execution_count": 1,
   "metadata": {},
   "outputs": [
    {
     "name": "stderr",
     "output_type": "stream",
     "text": [
      "d:\\Projects\\Capstone\\traffic data\\santa_clara_study_2020-01-01_to_2020-03-02_60_min_part_1\\traffic_scores.py:26: UserWarning: This pattern is interpreted as a regular expression, and has match groups. To actually get the groups, use str.extract.\n",
      "  matches_bools = meta[\"Intersection\"].str.contains(matches_regex, na=False, regex=True)\n"
     ]
    },
    {
     "data": {
      "image/png": "[encoded data removed]",
      "text/plain": [
       "<Figure size 432x288 with 1 Axes>"
      ]
     },
     "metadata": {
      "needs_background": "light"
     },
     "output_type": "display_data"
    }
   ],
   "source": [
    "from traffic_scores import *\n",
    "\n",
    "kws = kwh_vs_score(load_traffic(), load_kwh())"
   ]
  },
  {
   "cell_type": "code",
   "execution_count": 2,
   "metadata": {},
   "outputs": [
    {
     "data": {
      "image/png": "[encoded data removed]",
      "text/plain": [
       "<Figure size 432x288 with 1 Axes>"
      ]
     },
     "metadata": {
      "needs_background": "light"
     },
     "output_type": "display_data"
    }
   ],
   "source": [
    "from scipy.stats import linregress\n",
    "import numpy as np\n",
    "import matplotlib.pyplot as plt\n",
    "x = kws[\"Score\"]\n",
    "y = kws[\"kwh\"]\n",
    "gradient, intercept, r_value, p_value, std_err = linregress(kws[\"Score\"], kws[\"kwh\"])\n",
    "mn=np.min(x)\n",
    "mx=np.max(x)\n",
    "x1=np.linspace(mn,mx,500)\n",
    "y1=gradient*x1+intercept\n",
    "plt.plot(x,y,'ob')\n",
    "plt.plot(x1,y1,'-r')\n",
    "plt.ylabel(\"KWH\")\n",
    "plt.xlabel(\"Score\")\n",
    "plt.show()"
   ]
  },
  {
   "cell_type": "code",
   "execution_count": 5,
   "metadata": {},
   "outputs": [
    {
     "data": {
      "text/plain": [
       "0.004033806089294755"
      ]
     },
     "execution_count": 5,
     "metadata": {},
     "output_type": "execute_result"
    }
   ],
   "source": [
    "# average segment scores, do feature selection to see\n",
    "# which segments correlate most closely with KWH\n",
    "\n",
    "r_value"
   ]
  }
 ],
 "metadata": {
  "kernelspec": {
   "display_name": "Python 3.9.0 64-bit",
   "language": "python",
   "name": "python3"
  },
  "language_info": {
   "codemirror_mode": {
    "name": "ipython",
    "version": 3
   },
   "file_extension": ".py",
   "mimetype": "text/x-python",
   "name": "python",
   "nbconvert_exporter": "python",
   "pygments_lexer": "ipython3",
   "version": "3.9.0"
  },
  "orig_nbformat": 4,
  "vscode": {
   "interpreter": {
    "hash": "1309905a9055c6663c2e522cc5b6793395bf59c128c26cd5d6993d823ff82e1f"
   }
  }
 },
 "nbformat": 4,
 "nbformat_minor": 2
}
