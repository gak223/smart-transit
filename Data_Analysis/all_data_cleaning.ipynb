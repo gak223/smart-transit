{
 "cells": [
  {
   "cell_type": "code",
   "execution_count": 1,
   "metadata": {},
   "outputs": [],
   "source": [
    "import pandas as pd"
   ]
  },
  {
   "cell_type": "code",
   "execution_count": 2,
   "metadata": {},
   "outputs": [],
   "source": [
    "#read in the CSV files\n",
    "df = pd.read_csv(\"./block_weather_avg_test.csv\")"
   ]
  },
  {
   "cell_type": "code",
   "execution_count": 3,
   "metadata": {},
   "outputs": [
    {
     "name": "stdout",
     "output_type": "stream",
     "text": [
      "Unnamed: 0\n",
      "Date\n",
      "op_type\n",
      "op_id\n",
      "coach\n",
      "block\n",
      "start_mile\n",
      "end_mile\n",
      "start_per\n",
      "end_per\n",
      "start_range\n",
      "end_range\n",
      "start_mpge\n",
      "end_mpge\n",
      "kwh\n",
      "mpp\n",
      "error\n",
      "mpp_error\n",
      "order\n",
      "bus_run\n",
      "percent_used\n",
      "range_diff\n",
      "miles_travelled\n",
      "TAVG\n",
      "TMAX\n",
      "TMIN\n",
      "tempdif\n",
      "day_of_week\n",
      "day\n",
      "month\n",
      "year\n",
      "loc_id\n",
      "time\n",
      "tempC\n",
      "tempF\n",
      "windspeedMiles\n",
      "winddirdegree\n",
      "weatherCode\n",
      "precipInches\n",
      "humidity\n",
      "visibilityMiles\n",
      "pressureInches\n",
      "cloudcover\n",
      "HeatIndexF\n",
      "DewPointF\n",
      "WindChillF\n",
      "WindGustMiles\n",
      "FeelsLikeF\n",
      "uvIndex\n"
     ]
    }
   ],
   "source": [
    "for col in df.columns:\n",
    "    print(col)"
   ]
  },
  {
   "cell_type": "code",
   "execution_count": 4,
   "metadata": {},
   "outputs": [],
   "source": [
    "df.dropna(inplace=True)"
   ]
  },
  {
   "cell_type": "code",
   "execution_count": 5,
   "metadata": {},
   "outputs": [],
   "source": [
    "#make sure all of the operator types are valid\n",
    "df = df.replace({'re': 'reg'})\n",
    "df = df.replace({'re585': 'reg585'})\n",
    "df = df.replace({'re973': 'reg973'})\n",
    "df = df.replace({'gr': 'grp'})\n",
    "df = df.replace({'gr376': 'grp376'})\n",
    "df = df.replace({'hx': 'hxb'})\n",
    "df.drop(df[df['op_type'] == 'julio'].index, inplace=True)\n",
    "df.drop(df[df['op_type'] == 'me'].index, inplace=True)\n",
    "df.drop(df[df['op_type'] == 'com w/b'].index, inplace=True)\n",
    "df.drop(df[df['op_id'] == '0'].index, inplace=True)"
   ]
  },
  {
   "cell_type": "code",
   "execution_count": 6,
   "metadata": {},
   "outputs": [],
   "source": [
    "#replace the day of the week from a float to a string\n",
    "df['day_of_week'] = df['day_of_week'].astype(str)\n",
    "\n",
    "df = df.replace(to_replace = \"0.0\", value =\"Sunday\")\n",
    "df = df.replace(to_replace = \"1.0\", value =\"Monday\")\n",
    "df = df.replace(to_replace = \"2.0\", value =\"Tuesday\")\n",
    "df = df.replace(to_replace = \"3.0\", value =\"Wednesday\")\n",
    "df = df.replace(to_replace = \"4.0\", value =\"Thursday\")\n",
    "df = df.replace(to_replace = \"5.0\", value =\"Friday\")\n",
    "df = df.replace(to_replace = \"6.0\", value =\"Saturday\")"
   ]
  },
  {
   "cell_type": "code",
   "execution_count": 7,
   "metadata": {},
   "outputs": [],
   "source": [
    "#replace the month from a float to a string\n",
    "df['month'] = df['month'].astype(str)\n",
    "\n",
    "df = df.replace(to_replace = \"1.0\", value =\"January\")\n",
    "df = df.replace(to_replace = \"2.0\", value =\"February\")\n",
    "df = df.replace(to_replace = \"3.0\", value =\"March\")\n",
    "df = df.replace(to_replace = \"4.0\", value =\"April\")\n",
    "df = df.replace(to_replace = \"5.0\", value =\"May\")\n",
    "df = df.replace(to_replace = \"6.0\", value =\"June\")\n",
    "df = df.replace(to_replace = \"7.0\", value =\"July\")\n",
    "df = df.replace(to_replace = \"8.0\", value =\"August\")\n",
    "df = df.replace(to_replace = \"9.0\", value =\"September\")\n",
    "df = df.replace(to_replace = \"10.0\", value =\"October\")\n",
    "df = df.replace(to_replace = \"11.0\", value =\"November\")\n",
    "df = df.replace(to_replace = \"12.0\", value =\"December\")"
   ]
  },
  {
   "cell_type": "code",
   "execution_count": 10,
   "metadata": {},
   "outputs": [
    {
     "name": "stdout",
     "output_type": "stream",
     "text": [
      "     Unnamed: 0        Date op_type   op_id   coach block  start_mile  \\\n",
      "929         929  2020-08-10      xb   xb675  7502.0  7771         0.0   \n",
      "930         930  2020-08-10     reg  reg430  7502.0  7771        49.0   \n",
      "931         931  2020-08-10     reg  reg001  7502.0  7771        86.0   \n",
      "934         934  2020-08-11      xb   xb995  7505.0  7771         0.0   \n",
      "935         935  2020-08-11     reg  reg430  7505.0  7771        49.0   \n",
      "\n",
      "     end_mile  start_per  end_per  ...  humidity  visibilityMiles  \\\n",
      "929      49.0      100.0     82.0  ...      36.3              6.0   \n",
      "930      86.0       82.0     66.0  ...      36.3              6.0   \n",
      "931     167.0       66.0     18.0  ...      36.3              6.0   \n",
      "934      49.0      100.0     82.0  ...      45.6              6.0   \n",
      "935      86.0       82.0     65.0  ...      45.6              6.0   \n",
      "\n",
      "     pressureInches  cloudcover  HeatIndexF  DewPointF  WindChillF  \\\n",
      "929            30.0         0.2        85.3       54.1        85.5   \n",
      "930            30.0         0.2        85.3       54.1        85.5   \n",
      "931            30.0         0.2        85.3       54.1        85.5   \n",
      "934            30.0         0.0        83.5       57.1        82.4   \n",
      "935            30.0         0.0        83.5       57.1        82.4   \n",
      "\n",
      "     WindGustMiles  FeelsLikeF  uvIndex  \n",
      "929            3.6        85.2      7.0  \n",
      "930            3.6        85.2      7.0  \n",
      "931            3.6        85.2      7.0  \n",
      "934            4.4        83.0      6.7  \n",
      "935            4.4        83.0      6.7  \n",
      "\n",
      "[5 rows x 49 columns]\n"
     ]
    }
   ],
   "source": [
    "df.to_csv('alloperators.csv', index=False, header=True)\n",
    "print(df.T)"
   ]
  },
  {
   "cell_type": "code",
   "execution_count": 9,
   "metadata": {},
   "outputs": [
    {
     "ename": "NameError",
     "evalue": "name 'final' is not defined",
     "output_type": "error",
     "traceback": [
      "\u001b[1;31m---------------------------------------------------------------------------\u001b[0m",
      "\u001b[1;31mNameError\u001b[0m                                 Traceback (most recent call last)",
      "Cell \u001b[1;32mIn [9], line 2\u001b[0m\n\u001b[0;32m      1\u001b[0m \u001b[39m#Find the top 10 operators\u001b[39;00m\n\u001b[1;32m----> 2\u001b[0m \u001b[39mprint\u001b[39m(final[\u001b[39m'\u001b[39m\u001b[39mop_id\u001b[39m\u001b[39m'\u001b[39m]\u001b[39m.\u001b[39mvalue_counts()\u001b[39m.\u001b[39mhead(\u001b[39m10\u001b[39m))\n\u001b[0;32m      4\u001b[0m data \u001b[39m=\u001b[39m [\u001b[39m\"\u001b[39m\u001b[39mreg420\u001b[39m\u001b[39m\"\u001b[39m, \u001b[39m\"\u001b[39m\u001b[39mreg585\u001b[39m\u001b[39m\"\u001b[39m, \u001b[39m\"\u001b[39m\u001b[39mgrp376\u001b[39m\u001b[39m\"\u001b[39m, \u001b[39m\"\u001b[39m\u001b[39mreg396\u001b[39m\u001b[39m\"\u001b[39m, \u001b[39m\"\u001b[39m\u001b[39mhxb800\u001b[39m\u001b[39m\"\u001b[39m, \u001b[39m\"\u001b[39m\u001b[39mreg973\u001b[39m\u001b[39m\"\u001b[39m, \u001b[39m\"\u001b[39m\u001b[39mreg430\u001b[39m\u001b[39m\"\u001b[39m, \u001b[39m\"\u001b[39m\u001b[39mreg359\u001b[39m\u001b[39m\"\u001b[39m, \u001b[39m\"\u001b[39m\u001b[39mreg563\u001b[39m\u001b[39m\"\u001b[39m, \u001b[39m\"\u001b[39m\u001b[39mgrp473\u001b[39m\u001b[39m\"\u001b[39m]\n\u001b[0;32m      5\u001b[0m top_10_operator_df \u001b[39m=\u001b[39m pd\u001b[39m.\u001b[39mDataFrame(data, columns\u001b[39m=\u001b[39m[\u001b[39m\"\u001b[39m\u001b[39mop_id\u001b[39m\u001b[39m\"\u001b[39m])\n",
      "\u001b[1;31mNameError\u001b[0m: name 'final' is not defined"
     ]
    }
   ],
   "source": [
    "#Find the top 10 operators\n",
    "print(final['op_id'].value_counts().head(10))\n",
    "\n",
    "data = [\"reg420\", \"reg585\", \"grp376\", \"reg396\", \"hxb800\", \"reg973\", \"reg430\", \"reg359\", \"reg563\", \"grp473\"]\n",
    "top_10_operator_df = pd.DataFrame(data, columns=[\"op_id\"])\n",
    "df10 = pd.merge(df, top_10_operator_df, left_on=\"op_id\", right_on=\"op_id\")"
   ]
  },
  {
   "cell_type": "code",
   "execution_count": null,
   "metadata": {},
   "outputs": [],
   "source": [
    "#save top 10 operator data to csv\n",
    "df10.to_csv('top10operators.csv', index=False, header=True)"
   ]
  }
 ],
 "metadata": {
  "kernelspec": {
   "display_name": "Python 3.10.7 64-bit",
   "language": "python",
   "name": "python3"
  },
  "language_info": {
   "codemirror_mode": {
    "name": "ipython",
    "version": 3
   },
   "file_extension": ".py",
   "mimetype": "text/x-python",
   "name": "python",
   "nbconvert_exporter": "python",
   "pygments_lexer": "ipython3",
   "version": "3.10.7"
  },
  "orig_nbformat": 4,
  "vscode": {
   "interpreter": {
    "hash": "68ff59dadba6dbe54093597f9791fe0cd46d3d4d6103bd0cc6823309422c1273"
   }
  }
 },
 "nbformat": 4,
 "nbformat_minor": 2
}
